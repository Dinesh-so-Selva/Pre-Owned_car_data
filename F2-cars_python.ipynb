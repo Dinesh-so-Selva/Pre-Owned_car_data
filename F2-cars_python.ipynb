{
 "cells": [
  {
   "cell_type": "code",
   "execution_count": 1,
   "id": "9f9afa39",
   "metadata": {},
   "outputs": [],
   "source": [
    "import pandas as pd\n",
    "import matplotlib.pyplot as plt\n",
    "import seaborn as sns"
   ]
  },
  {
   "cell_type": "code",
   "execution_count": 5,
   "id": "b3ed3df0",
   "metadata": {},
   "outputs": [],
   "source": [
    "df = pd.read_csv(\"C:/Users/user/Desktop/Projects/cars/car_dataset_india_rawdata.csv\")"
   ]
  },
  {
   "cell_type": "code",
   "execution_count": 10,
   "id": "79412350",
   "metadata": {},
   "outputs": [
    {
     "data": {
      "text/plain": [
       "<bound method DataFrame.info of       Car_ID          Brand          Model  Year Fuel_Type Transmission  \\\n",
       "0          1         Toyota         Innova  2024       CNG       Manual   \n",
       "1          2            Kia            EV6  2023    Diesel       Manual   \n",
       "2          3  Maruti Suzuki          Dzire  2016    Petrol       Manual   \n",
       "3          4          Honda          Amaze  2019    Petrol       Manual   \n",
       "4          5          Honda           City  2015  Electric       Manual   \n",
       "...      ...            ...            ...   ...       ...          ...   \n",
       "9995    9996    Tata Motors         Altroz  2021       CNG    Automatic   \n",
       "9996    9997          Honda           WR-V  2024    Diesel    Automatic   \n",
       "9997    9998       Mahindra         XUV300  2020  Electric       Manual   \n",
       "9998    9999        Renault         Duster  2020    Diesel       Manual   \n",
       "9999   10000         Toyota  Urban Cruiser  2018       CNG    Automatic   \n",
       "\n",
       "        Price  Mileage  Engine_CC  Seating_Capacity  Service_Cost  \n",
       "0     2020000     27.3        800                 4         24100  \n",
       "1     1770000     16.4       2500                 7         18800  \n",
       "2     3430000     17.6       2000                 6         24700  \n",
       "3     1610000     19.2       2500                 6         23300  \n",
       "4     1840000     15.8       1000                 5          5800  \n",
       "...       ...      ...        ...               ...           ...  \n",
       "9995  1900000     24.9       2500                 7          7100  \n",
       "9996  1270000     21.4       1000                 6         18300  \n",
       "9997  3050000     27.0       1200                 4          7700  \n",
       "9998  2390000     24.3       1800                 7         15700  \n",
       "9999  1500000     21.5       1200                 6         18600  \n",
       "\n",
       "[10000 rows x 11 columns]>"
      ]
     },
     "execution_count": 10,
     "metadata": {},
     "output_type": "execute_result"
    }
   ],
   "source": [
    "df.info"
   ]
  },
  {
   "cell_type": "code",
   "execution_count": 6,
   "id": "8d678e6f",
   "metadata": {},
   "outputs": [],
   "source": [
    "df.drop_duplicates(inplace=True)"
   ]
  },
  {
   "cell_type": "code",
   "execution_count": 9,
   "id": "76e7f4bc",
   "metadata": {},
   "outputs": [
    {
     "data": {
      "text/plain": [
       "<bound method DataFrame.info of       Car_ID          Brand          Model  Year Fuel_Type Transmission  \\\n",
       "0          1         Toyota         Innova  2024       CNG       Manual   \n",
       "1          2            Kia            EV6  2023    Diesel       Manual   \n",
       "2          3  Maruti Suzuki          Dzire  2016    Petrol       Manual   \n",
       "3          4          Honda          Amaze  2019    Petrol       Manual   \n",
       "4          5          Honda           City  2015  Electric       Manual   \n",
       "...      ...            ...            ...   ...       ...          ...   \n",
       "9995    9996    Tata Motors         Altroz  2021       CNG    Automatic   \n",
       "9996    9997          Honda           WR-V  2024    Diesel    Automatic   \n",
       "9997    9998       Mahindra         XUV300  2020  Electric       Manual   \n",
       "9998    9999        Renault         Duster  2020    Diesel       Manual   \n",
       "9999   10000         Toyota  Urban Cruiser  2018       CNG    Automatic   \n",
       "\n",
       "        Price  Mileage  Engine_CC  Seating_Capacity  Service_Cost  \n",
       "0     2020000     27.3        800                 4         24100  \n",
       "1     1770000     16.4       2500                 7         18800  \n",
       "2     3430000     17.6       2000                 6         24700  \n",
       "3     1610000     19.2       2500                 6         23300  \n",
       "4     1840000     15.8       1000                 5          5800  \n",
       "...       ...      ...        ...               ...           ...  \n",
       "9995  1900000     24.9       2500                 7          7100  \n",
       "9996  1270000     21.4       1000                 6         18300  \n",
       "9997  3050000     27.0       1200                 4          7700  \n",
       "9998  2390000     24.3       1800                 7         15700  \n",
       "9999  1500000     21.5       1200                 6         18600  \n",
       "\n",
       "[10000 rows x 11 columns]>"
      ]
     },
     "execution_count": 9,
     "metadata": {},
     "output_type": "execute_result"
    }
   ],
   "source": [
    "df.info"
   ]
  },
  {
   "cell_type": "code",
   "execution_count": 8,
   "id": "d9679156",
   "metadata": {},
   "outputs": [
    {
     "data": {
      "text/html": [
       "<div>\n",
       "<style scoped>\n",
       "    .dataframe tbody tr th:only-of-type {\n",
       "        vertical-align: middle;\n",
       "    }\n",
       "\n",
       "    .dataframe tbody tr th {\n",
       "        vertical-align: top;\n",
       "    }\n",
       "\n",
       "    .dataframe thead th {\n",
       "        text-align: right;\n",
       "    }\n",
       "</style>\n",
       "<table border=\"1\" class=\"dataframe\">\n",
       "  <thead>\n",
       "    <tr style=\"text-align: right;\">\n",
       "      <th></th>\n",
       "      <th>Car_ID</th>\n",
       "      <th>Brand</th>\n",
       "      <th>Model</th>\n",
       "      <th>Year</th>\n",
       "      <th>Fuel_Type</th>\n",
       "      <th>Transmission</th>\n",
       "      <th>Price</th>\n",
       "      <th>Mileage</th>\n",
       "      <th>Engine_CC</th>\n",
       "      <th>Seating_Capacity</th>\n",
       "      <th>Service_Cost</th>\n",
       "    </tr>\n",
       "  </thead>\n",
       "  <tbody>\n",
       "    <tr>\n",
       "      <th>0</th>\n",
       "      <td>1</td>\n",
       "      <td>Toyota</td>\n",
       "      <td>Innova</td>\n",
       "      <td>2024</td>\n",
       "      <td>CNG</td>\n",
       "      <td>Manual</td>\n",
       "      <td>2020000</td>\n",
       "      <td>27.3</td>\n",
       "      <td>800</td>\n",
       "      <td>4</td>\n",
       "      <td>24100</td>\n",
       "    </tr>\n",
       "    <tr>\n",
       "      <th>1</th>\n",
       "      <td>2</td>\n",
       "      <td>Kia</td>\n",
       "      <td>EV6</td>\n",
       "      <td>2023</td>\n",
       "      <td>Diesel</td>\n",
       "      <td>Manual</td>\n",
       "      <td>1770000</td>\n",
       "      <td>16.4</td>\n",
       "      <td>2500</td>\n",
       "      <td>7</td>\n",
       "      <td>18800</td>\n",
       "    </tr>\n",
       "    <tr>\n",
       "      <th>2</th>\n",
       "      <td>3</td>\n",
       "      <td>Maruti Suzuki</td>\n",
       "      <td>Dzire</td>\n",
       "      <td>2016</td>\n",
       "      <td>Petrol</td>\n",
       "      <td>Manual</td>\n",
       "      <td>3430000</td>\n",
       "      <td>17.6</td>\n",
       "      <td>2000</td>\n",
       "      <td>6</td>\n",
       "      <td>24700</td>\n",
       "    </tr>\n",
       "    <tr>\n",
       "      <th>3</th>\n",
       "      <td>4</td>\n",
       "      <td>Honda</td>\n",
       "      <td>Amaze</td>\n",
       "      <td>2019</td>\n",
       "      <td>Petrol</td>\n",
       "      <td>Manual</td>\n",
       "      <td>1610000</td>\n",
       "      <td>19.2</td>\n",
       "      <td>2500</td>\n",
       "      <td>6</td>\n",
       "      <td>23300</td>\n",
       "    </tr>\n",
       "    <tr>\n",
       "      <th>4</th>\n",
       "      <td>5</td>\n",
       "      <td>Honda</td>\n",
       "      <td>City</td>\n",
       "      <td>2015</td>\n",
       "      <td>Electric</td>\n",
       "      <td>Manual</td>\n",
       "      <td>1840000</td>\n",
       "      <td>15.8</td>\n",
       "      <td>1000</td>\n",
       "      <td>5</td>\n",
       "      <td>5800</td>\n",
       "    </tr>\n",
       "  </tbody>\n",
       "</table>\n",
       "</div>"
      ],
      "text/plain": [
       "   Car_ID          Brand   Model  Year Fuel_Type Transmission    Price  \\\n",
       "0       1         Toyota  Innova  2024       CNG       Manual  2020000   \n",
       "1       2            Kia     EV6  2023    Diesel       Manual  1770000   \n",
       "2       3  Maruti Suzuki   Dzire  2016    Petrol       Manual  3430000   \n",
       "3       4          Honda   Amaze  2019    Petrol       Manual  1610000   \n",
       "4       5          Honda    City  2015  Electric       Manual  1840000   \n",
       "\n",
       "   Mileage  Engine_CC  Seating_Capacity  Service_Cost  \n",
       "0     27.3        800                 4         24100  \n",
       "1     16.4       2500                 7         18800  \n",
       "2     17.6       2000                 6         24700  \n",
       "3     19.2       2500                 6         23300  \n",
       "4     15.8       1000                 5          5800  "
      ]
     },
     "execution_count": 8,
     "metadata": {},
     "output_type": "execute_result"
    }
   ],
   "source": [
    "df.head()"
   ]
  },
  {
   "cell_type": "code",
   "execution_count": 7,
   "id": "27228e5a",
   "metadata": {},
   "outputs": [
    {
     "data": {
      "image/png": "[encoded data removed]",
      "text/plain": [
       "<Figure size 1000x600 with 1 Axes>"
      ]
     },
     "metadata": {},
     "output_type": "display_data"
    }
   ],
   "source": [
    "plt.figure(figsize=(10,6))\n",
    "sns.barplot(x='Brand', y='Price', data=df)\n",
    "plt.xticks(rotation=45)\n",
    "plt.title(\"Average Price by Brand\")\n",
    "plt.show()"
   ]
  },
  {
   "cell_type": "code",
   "execution_count": 13,
   "id": "2f61e0e7",
   "metadata": {},
   "outputs": [
    {
     "name": "stdout",
     "output_type": "stream",
     "text": [
      "              Brand   Model  Mileage   Price\n",
      "8579  Maruti Suzuki  Baleno     30.0  800000\n",
      "841           Skoda   Rapid     30.0  620000\n",
      "3783        Hyundai     i20     30.0  710000\n",
      "1166        Hyundai   Verna     30.0  990000\n",
      "6960          Skoda  Superb     29.9  700000\n",
      "6369     Volkswagen    Polo     29.9  570000\n",
      "957     Tata Motors   Nexon     29.9  750000\n",
      "9423       Mahindra  XUV700     29.9  730000\n",
      "7199    Tata Motors  Altroz     29.9  850000\n",
      "6711       Mahindra  Bolero     29.9  930000\n"
     ]
    }
   ],
   "source": [
    "# best_mileage\n",
    "best_mileage = df[df['Price'] < 1000000].sort_values(by='Mileage', ascending=False).head(10)\n",
    "print(best_mileage[['Brand', 'Model', 'Mileage', 'Price']])\n"
   ]
  }
 ],
 "metadata": {
  "kernelspec": {
   "display_name": "Python 3",
   "language": "python",
   "name": "python3"
  },
  "language_info": {
   "codemirror_mode": {
    "name": "ipython",
    "version": 3
   },
   "file_extension": ".py",
   "mimetype": "text/x-python",
   "name": "python",
   "nbconvert_exporter": "python",
   "pygments_lexer": "ipython3",
   "version": "3.13.2"
  }
 },
 "nbformat": 4,
 "nbformat_minor": 5
}
